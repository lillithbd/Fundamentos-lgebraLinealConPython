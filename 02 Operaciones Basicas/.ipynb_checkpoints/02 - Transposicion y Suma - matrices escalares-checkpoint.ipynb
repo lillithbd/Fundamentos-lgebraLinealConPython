{
 "cells": [
  {
   "cell_type": "code",
   "execution_count": 1,
   "metadata": {},
   "outputs": [],
   "source": [
    "import numpy as np"
   ]
  },
  {
   "cell_type": "code",
   "execution_count": 6,
   "metadata": {},
   "outputs": [],
   "source": [
    "#Datos \n",
    "escalar = 5.679\n",
    "vector = np.array([3,4,5,6])\n",
    "matriz = np.array([[1,2],[3,4],[5,6]])\n",
    "tensor = np.array([\n",
    "    [[1,2,3,30],[4,5,6,31],[7,8,9,32]],\n",
    "    [[11,12,13,33],[14,15,16,34],[17,18,19,35]],\n",
    "    [[21,22,23,36],[24,25,26,37],[27,28,29,38]],\n",
    "])"
   ]
  },
  {
   "cell_type": "code",
   "execution_count": null,
   "metadata": {},
   "outputs": [],
   "source": [
    "#Transponer es cambiar las filas por columnas\n",
    "#Si tengo un vector y lo transpongo se obtiene vector columna\n",
    "#Matriz de 3*2 queda en 2*3 (los elementos de la diagonal se mantienen)"
   ]
  },
  {
   "cell_type": "code",
   "execution_count": 5,
   "metadata": {},
   "outputs": [
    {
     "ename": "AttributeError",
     "evalue": "'float' object has no attribute 'T'",
     "output_type": "error",
     "traceback": [
      "\u001b[1;31m---------------------------------------------------------------------------\u001b[0m",
      "\u001b[1;31mAttributeError\u001b[0m                            Traceback (most recent call last)",
      "Cell \u001b[1;32mIn[5], line 2\u001b[0m\n\u001b[0;32m      1\u001b[0m \u001b[38;5;66;03m#Transpuesta\u001b[39;00m\n\u001b[1;32m----> 2\u001b[0m escalar_t \u001b[38;5;241m=\u001b[39m escalar\u001b[38;5;241m.\u001b[39mT\n",
      "\u001b[1;31mAttributeError\u001b[0m: 'float' object has no attribute 'T'"
     ]
    }
   ],
   "source": [
    "#Transpuesta\n",
    "escalar_t = escalar.T\n",
    "#El escalar no puede transponerse"
   ]
  },
  {
   "cell_type": "code",
   "execution_count": 7,
   "metadata": {},
   "outputs": [
    {
     "name": "stdout",
     "output_type": "stream",
     "text": [
      "[3 4 5 6]\n"
     ]
    }
   ],
   "source": [
    "#Transponer vector ( a efectos visuales no se ve cambio)\n",
    "vector_t = vector.T\n",
    "print(vector_t)"
   ]
  },
  {
   "cell_type": "code",
   "execution_count": 8,
   "metadata": {},
   "outputs": [],
   "source": [
    "#Transponer matriz\n",
    "matriz_t = matriz.T"
   ]
  },
  {
   "cell_type": "code",
   "execution_count": 9,
   "metadata": {},
   "outputs": [
    {
     "name": "stdout",
     "output_type": "stream",
     "text": [
      "[[1 3 5]\n",
      " [2 4 6]]\n"
     ]
    }
   ],
   "source": [
    "print(matriz_t)"
   ]
  },
  {
   "cell_type": "code",
   "execution_count": 10,
   "metadata": {},
   "outputs": [
    {
     "name": "stdout",
     "output_type": "stream",
     "text": [
      "(3, 2)\n"
     ]
    }
   ],
   "source": [
    "print(matriz.shape)"
   ]
  },
  {
   "cell_type": "code",
   "execution_count": 11,
   "metadata": {},
   "outputs": [
    {
     "name": "stdout",
     "output_type": "stream",
     "text": [
      "(2, 3)\n"
     ]
    }
   ],
   "source": [
    "print(matriz_t.shape)"
   ]
  },
  {
   "cell_type": "code",
   "execution_count": 12,
   "metadata": {},
   "outputs": [
    {
     "name": "stdout",
     "output_type": "stream",
     "text": [
      "[[[ 1 11 21]\n",
      "  [ 4 14 24]\n",
      "  [ 7 17 27]]\n",
      "\n",
      " [[ 2 12 22]\n",
      "  [ 5 15 25]\n",
      "  [ 8 18 28]]\n",
      "\n",
      " [[ 3 13 23]\n",
      "  [ 6 16 26]\n",
      "  [ 9 19 29]]\n",
      "\n",
      " [[30 33 36]\n",
      "  [31 34 37]\n",
      "  [32 35 38]]]\n"
     ]
    }
   ],
   "source": [
    "#Transponer tensor\n",
    "tensor_t = tensor.T\n",
    "print(tensor_t)"
   ]
  },
  {
   "cell_type": "code",
   "execution_count": 13,
   "metadata": {},
   "outputs": [
    {
     "name": "stdout",
     "output_type": "stream",
     "text": [
      "[[[ 1  2  3 30]\n",
      "  [ 4  5  6 31]\n",
      "  [ 7  8  9 32]]\n",
      "\n",
      " [[11 12 13 33]\n",
      "  [14 15 16 34]\n",
      "  [17 18 19 35]]\n",
      "\n",
      " [[21 22 23 36]\n",
      "  [24 25 26 37]\n",
      "  [27 28 29 38]]]\n"
     ]
    }
   ],
   "source": [
    "print(tensor)"
   ]
  },
  {
   "cell_type": "code",
   "execution_count": null,
   "metadata": {},
   "outputs": [],
   "source": [
    "#La transpuesta de una matriz a la que se le aplica de vuelta la transpuesta devuelve la misma matriz"
   ]
  },
  {
   "cell_type": "code",
   "execution_count": 14,
   "metadata": {},
   "outputs": [
    {
     "name": "stdout",
     "output_type": "stream",
     "text": [
      "[[1 2]\n",
      " [3 4]\n",
      " [5 6]]\n"
     ]
    }
   ],
   "source": [
    "matriz_t_t = matriz_t.T\n",
    "print(matriz_t_t)"
   ]
  },
  {
   "cell_type": "code",
   "execution_count": 15,
   "metadata": {},
   "outputs": [
    {
     "name": "stdout",
     "output_type": "stream",
     "text": [
      "[[1 2]\n",
      " [3 4]\n",
      " [5 6]]\n"
     ]
    }
   ],
   "source": [
    "print(matriz)"
   ]
  },
  {
   "cell_type": "code",
   "execution_count": 16,
   "metadata": {},
   "outputs": [],
   "source": [
    "#Suma de matrices - Aplica sólo cuando las matarices tienen las mismas dimensiones\n",
    "A = matriz\n",
    "B = matriz_t"
   ]
  },
  {
   "cell_type": "code",
   "execution_count": 17,
   "metadata": {},
   "outputs": [
    {
     "ename": "ValueError",
     "evalue": "operands could not be broadcast together with shapes (3,2) (2,3) ",
     "output_type": "error",
     "traceback": [
      "\u001b[1;31m---------------------------------------------------------------------------\u001b[0m",
      "\u001b[1;31mValueError\u001b[0m                                Traceback (most recent call last)",
      "Cell \u001b[1;32mIn[17], line 1\u001b[0m\n\u001b[1;32m----> 1\u001b[0m C \u001b[38;5;241m=\u001b[39m A\u001b[38;5;241m+\u001b[39mB\n",
      "\u001b[1;31mValueError\u001b[0m: operands could not be broadcast together with shapes (3,2) (2,3) "
     ]
    }
   ],
   "source": [
    "#Retorna error porque tiene dimensiones diferentes\n",
    "C = A+B"
   ]
  },
  {
   "cell_type": "code",
   "execution_count": 18,
   "metadata": {},
   "outputs": [
    {
     "name": "stdout",
     "output_type": "stream",
     "text": [
      "[[1 2]\n",
      " [3 4]\n",
      " [5 6]]\n",
      "[[6 5]\n",
      " [4 3]\n",
      " [2 1]]\n",
      "[[7 7]\n",
      " [7 7]\n",
      " [7 7]]\n"
     ]
    }
   ],
   "source": [
    "#Suma de matrices de iguales dimensiones\n",
    "A = np.array([[1,2],[3,4],[5,6]])\n",
    "B = np.array([[6,5],[4,3],[2,1]])\n",
    "C = A+B\n",
    "print(A)\n",
    "print(B)\n",
    "print(C)"
   ]
  },
  {
   "cell_type": "code",
   "execution_count": 19,
   "metadata": {},
   "outputs": [
    {
     "name": "stdout",
     "output_type": "stream",
     "text": [
      "[[ 6.679  7.679]\n",
      " [ 8.679  9.679]\n",
      " [10.679 11.679]]\n"
     ]
    }
   ],
   "source": [
    "#Suma de matriz y escalar\n",
    "D = matriz + escalar\n",
    "print(D)"
   ]
  },
  {
   "cell_type": "code",
   "execution_count": null,
   "metadata": {},
   "outputs": [],
   "source": []
  }
 ],
 "metadata": {
  "kernelspec": {
   "display_name": "Python 3 (ipykernel)",
   "language": "python",
   "name": "python3"
  },
  "language_info": {
   "codemirror_mode": {
    "name": "ipython",
    "version": 3
   },
   "file_extension": ".py",
   "mimetype": "text/x-python",
   "name": "python",
   "nbconvert_exporter": "python",
   "pygments_lexer": "ipython3",
   "version": "3.11.9"
  }
 },
 "nbformat": 4,
 "nbformat_minor": 2
}
